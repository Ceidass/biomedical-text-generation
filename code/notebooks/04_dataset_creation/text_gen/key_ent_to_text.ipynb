{
 "cells": [
  {
   "cell_type": "markdown",
   "id": "f2481a5d",
   "metadata": {},
   "source": []
  },
  {
   "cell_type": "code",
   "execution_count": null,
   "id": "f04c8584",
   "metadata": {
    "vscode": {
     "languageId": "plaintext"
    }
   },
   "outputs": [],
   "source": [
    "!pip install jsonlines"
   ]
  },
  {
   "cell_type": "code",
   "execution_count": null,
   "id": "476ac192",
   "metadata": {},
   "outputs": [],
   "source": [
    "# Mount Google Drive\n",
    "from google.colab import drive\n",
    "drive.mount('/content/drive')\n"
   ]
  },
  {
   "cell_type": "code",
   "execution_count": null,
   "id": "af2bcbf6",
   "metadata": {},
   "outputs": [],
   "source": [
    "import os\n",
    "import json\n",
    "import jsonlines\n",
    "from tqdm import tqdm\n"
   ]
  },
  {
   "cell_type": "code",
   "execution_count": null,
   "id": "a6004b6d",
   "metadata": {},
   "outputs": [],
   "source": [
    "# Load enriched abstracts (with entities)\n",
    "enriched_path = \"/content/drive/MyDrive/biomedical_text_generation/data/enriched/abstracts_with_entities.json\"\n",
    "\n",
    "with open(enriched_path, \"r\", encoding=\"utf-8\") as f:\n",
    "    enriched_data = json.load(f)\n",
    "\n",
    "# Index enriched abstracts by PMID for fast lookup\n",
    "pmid_to_entry = {entry[\"pmid\"]: entry for entry in enriched_data}\n",
    "print(f\"Loaded {len(pmid_to_entry)} enriched abstracts.\")\n"
   ]
  },
  {
   "cell_type": "code",
   "execution_count": null,
   "id": "f9908b13",
   "metadata": {},
   "outputs": [],
   "source": [
    "# Directory where the raw keyword-based files are stored\n",
    "raw_dir = \"/content/drive/MyDrive/biomedical_text_generation/data/raw\"\n",
    "\n",
    "# List all JSON files (each corresponding to a search keyword)\n",
    "keyword_files = [f for f in os.listdir(raw_dir) if f.endswith(\".json\")]\n",
    "\n",
    "print(f\"Found {len(keyword_files)} keyword files.\")\n"
   ]
  },
  {
   "cell_type": "code",
   "execution_count": null,
   "id": "98a67e71",
   "metadata": {},
   "outputs": [],
   "source": [
    "combined_data = []\n",
    "\n",
    "for file_name in tqdm(keyword_files):\n",
    "    keyword = file_name.replace(\".json\", \"\")\n",
    "    file_path = os.path.join(raw_dir, file_name)\n",
    "\n",
    "    with open(file_path, \"r\", encoding=\"utf-8\") as f:\n",
    "        articles = json.load(f)\n",
    "\n",
    "    for article in articles:\n",
    "        pmid = article.get(\"pmid\")\n",
    "        abstract = article.get(\"abstract\")\n",
    "\n",
    "        # Skip if abstract or PMID is missing\n",
    "        if not pmid or not abstract:\n",
    "            continue\n",
    "\n",
    "        # Get entities from the enriched data\n",
    "        enriched_entry = pmid_to_entry.get(pmid)\n",
    "        if not enriched_entry:\n",
    "            continue\n",
    "\n",
    "        entities = enriched_entry.get(\"entities\", [])\n",
    "        if not entities:\n",
    "            continue\n",
    "\n",
    "        # Compose input prompt: keyword + entities\n",
    "        all_terms = [keyword] + entities\n",
    "        input_text = \", \".join(all_terms)\n",
    "\n",
    "        combined_data.append({\n",
    "            \"pmid\": pmid,\n",
    "            \"input\": input_text,\n",
    "            \"target\": abstract\n",
    "        })\n"
   ]
  },
  {
   "cell_type": "code",
   "execution_count": null,
   "id": "ef66e237",
   "metadata": {},
   "outputs": [],
   "source": [
    "import os\n",
    "\n",
    "# Define output path\n",
    "output_dir = \"/content/drive/MyDrive/biomedical_text_generation/data/training/text_gen\"\n",
    "os.makedirs(output_dir, exist_ok=True)\n",
    "\n",
    "output_path = os.path.join(output_dir, \"keywords_entities_to_text.jsonl\")\n",
    "\n",
    "# Write to jsonlines format\n",
    "with jsonlines.open(output_path, mode='w') as writer:\n",
    "    writer.write_all(combined_data)\n",
    "\n",
    "print(f\"Saved {len(combined_data)} samples to:\")\n",
    "print(output_path)\n"
   ]
  }
 ],
 "metadata": {
  "language_info": {
   "name": "python"
  }
 },
 "nbformat": 4,
 "nbformat_minor": 5
}
