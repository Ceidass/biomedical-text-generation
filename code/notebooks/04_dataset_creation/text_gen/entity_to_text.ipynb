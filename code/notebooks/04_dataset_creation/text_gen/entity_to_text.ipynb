{
 "cells": [
  {
   "cell_type": "markdown",
   "id": "5a94b2be",
   "metadata": {},
   "source": [
    "## Biomedical Text Generation: Entity-to-Text Dataset\n",
    "\n",
    "In this setup, we prepare a training dataset for **conditional biomedical text generation**, where the model learns to generate an abstract-like passage based on a **single biomedical entity**.\n",
    "\n",
    "Each entry contains:\n",
    "\n",
    "- `pmid`: The PubMed identifier of the abstract\n",
    "- `entity`: The biomedical term used as a generation prompt\n",
    "- `abstract`: The full abstract text\n",
    "- `input`: A prompt in the form of `\"Write a biomedical paragraph about <entity>.\"`\n",
    "- `target`: The abstract itself (used as generation target)\n",
    "\n",
    "This dataset is useful for training models like T5 or GPT-style LLMs to generate domain-specific text, conditioned on biomedical topics.\n"
   ]
  },
  {
   "cell_type": "markdown",
   "id": "303a7347",
   "metadata": {},
   "source": [
    "## Biomedical Text Generation: Entity-to-Text Dataset\n",
    "\n",
    "In this setup, we prepare a training dataset for **conditional biomedical text generation**, where the model learns to generate an abstract-like passage based on a **single biomedical entity**.\n",
    "\n",
    "Each entry contains:\n",
    "\n",
    "- `pmid`: The PubMed identifier of the abstract\n",
    "- `entity`: The biomedical term used as a generation prompt\n",
    "- `abstract`: The full abstract text\n",
    "- `input`: A prompt in the form of `\"Write a biomedical paragraph about <entity>.\"`\n",
    "- `target`: The abstract itself (used as generation target)\n",
    "\n",
    "This dataset is useful for training models like T5 or GPT-style LLMs to generate domain-specific text, conditioned on biomedical topics.\n"
   ]
  },
  {
   "cell_type": "code",
   "execution_count": null,
   "id": "8ad35828",
   "metadata": {
    "vscode": {
     "languageId": "plaintext"
    }
   },
   "outputs": [],
   "source": [
    "!pip install jsonlines"
   ]
  },
  {
   "cell_type": "code",
   "execution_count": null,
   "id": "6ad7bcb5",
   "metadata": {},
   "outputs": [],
   "source": [
    "# Mount Google Drive\n",
    "from google.colab import drive\n",
    "drive.mount('/content/drive')\n"
   ]
  },
  {
   "cell_type": "code",
   "execution_count": null,
   "id": "f75e0e98",
   "metadata": {},
   "outputs": [],
   "source": [
    "import json\n",
    "from tqdm import tqdm\n",
    "import os\n",
    "import jsonlines\n"
   ]
  },
  {
   "cell_type": "code",
   "execution_count": null,
   "id": "0dfe9d7e",
   "metadata": {},
   "outputs": [],
   "source": [
    "# Load the enriched abstracts with biomedical entities\n",
    "input_path = \"/content/drive/MyDrive/biomedical_text_generation/data/enriched/abstracts_with_entities.json\"\n",
    "\n",
    "with open(input_path, \"r\", encoding=\"utf-8\") as f:\n",
    "    abstracts = json.load(f)\n",
    "\n",
    "print(f\"Loaded {len(abstracts)} abstracts.\")\n"
   ]
  },
  {
   "cell_type": "code",
   "execution_count": null,
   "id": "aad81491",
   "metadata": {},
   "outputs": [],
   "source": [
    "# Prepare the dataset\n",
    "entity_to_text = []\n",
    "\n",
    "for entry in tqdm(abstracts):\n",
    "    pmid = entry.get(\"pmid\")\n",
    "    abstract = entry[\"abstract\"]\n",
    "    entities = entry.get(\"entities\", [])\n",
    "\n",
    "    for entity in entities:\n",
    "        if len(entity.split()) < 2:\n",
    "            continue  # Skip overly generic terms\n",
    "\n",
    "        input_text = f\"Write a biomedical paragraph about {entity}.\"\n",
    "\n",
    "        entity_to_text.append({\n",
    "            \"pmid\": pmid,\n",
    "            \"entity\": entity,\n",
    "            \"abstract\": abstract,\n",
    "            \"input\": input_text,\n",
    "            \"target\": abstract\n",
    "        })\n"
   ]
  },
  {
   "cell_type": "code",
   "execution_count": null,
   "id": "0a9c7ce5",
   "metadata": {},
   "outputs": [],
   "source": [
    "# Output directory\n",
    "output_dir = \"/content/drive/MyDrive/biomedical_text_generation/data/training/text_gen\"\n",
    "os.makedirs(output_dir, exist_ok=True)\n",
    "\n",
    "output_path = os.path.join(output_dir, \"entity_to_text.jsonl\")\n",
    "\n",
    "with jsonlines.open(output_path, mode=\"w\") as writer:\n",
    "    writer.write_all(entity_to_text)\n",
    "\n",
    "print(f\"Saved {len(entity_to_text)} entries to {output_path}\")\n"
   ]
  }
 ],
 "metadata": {
  "language_info": {
   "name": "python"
  }
 },
 "nbformat": 4,
 "nbformat_minor": 5
}
