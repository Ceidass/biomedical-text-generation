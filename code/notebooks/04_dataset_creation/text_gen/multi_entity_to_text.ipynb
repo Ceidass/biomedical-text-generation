{
 "cells": [
  {
   "cell_type": "markdown",
   "id": "6548b64b",
   "metadata": {},
   "source": [
    "## Biomedical Text Generation: Multi-Entity-to-Text Dataset\n",
    "\n",
    "In this approach, we build a text generation dataset where the **input** is a combination of multiple biomedical entities found in an abstract, and the **output** is the abstract itself.\n",
    "\n",
    "Each entry contains:\n",
    "- `pmid`: PubMed ID\n",
    "- `entities`: List of biomedical entities found in the abstract\n",
    "- `abstract`: The full abstract text\n",
    "- `input`: A prompt like `\"Write a biomedical paragraph using the terms: <entity1>, <entity2>, ...\"`\n",
    "- `target`: The original abstract\n",
    "\n",
    "This method encourages the model to generate a coherent biomedical paragraph conditioned on multiple domain-specific concepts, which is useful for entity-aware text generation or assisted authoring systems.\n"
   ]
  },
  {
   "cell_type": "code",
   "execution_count": null,
   "id": "54f4a8d9",
   "metadata": {
    "vscode": {
     "languageId": "plaintext"
    }
   },
   "outputs": [],
   "source": [
    "!pip install jsonlines"
   ]
  },
  {
   "cell_type": "code",
   "execution_count": null,
   "id": "56ea5eac",
   "metadata": {},
   "outputs": [],
   "source": [
    "# Mount Google Drive\n",
    "from google.colab import drive\n",
    "drive.mount('/content/drive')\n"
   ]
  },
  {
   "cell_type": "code",
   "execution_count": null,
   "id": "49459896",
   "metadata": {},
   "outputs": [],
   "source": [
    "import json\n",
    "from tqdm import tqdm\n",
    "import os\n",
    "import jsonlines\n"
   ]
  },
  {
   "cell_type": "code",
   "execution_count": null,
   "id": "fc22b743",
   "metadata": {},
   "outputs": [],
   "source": [
    "input_path = \"/content/drive/MyDrive/biomedical_text_generation/data/enriched/abstracts_with_entities.json\"\n",
    "\n",
    "with open(input_path, \"r\", encoding=\"utf-8\") as f:\n",
    "    abstracts = json.load(f)\n",
    "\n",
    "print(f\"Loaded {len(abstracts)} abstracts.\")\n"
   ]
  },
  {
   "cell_type": "code",
   "execution_count": null,
   "id": "7a8db65d",
   "metadata": {},
   "outputs": [],
   "source": [
    "multi_entity_to_text = []\n",
    "\n",
    "for entry in tqdm(abstracts):\n",
    "    pmid = entry.get(\"pmid\")\n",
    "    abstract = entry[\"abstract\"]\n",
    "    entities = entry.get(\"entities\", [])\n",
    "\n",
    "    # Filter out overly short ones and deduplicate\n",
    "    filtered_entities = list(set([ent for ent in entities if len(ent.split()) >= 2]))\n",
    "\n",
    "    if len(filtered_entities) < 2:\n",
    "        continue  # We want multi-entity prompts\n",
    "\n",
    "    input_text = f\"Write a biomedical paragraph using the terms: {', '.join(filtered_entities)}.\"\n",
    "\n",
    "    multi_entity_to_text.append({\n",
    "        \"pmid\": pmid,\n",
    "        \"entities\": filtered_entities,\n",
    "        \"abstract\": abstract,\n",
    "        \"input\": input_text,\n",
    "        \"target\": abstract\n",
    "    })\n",
    "\n"
   ]
  },
  {
   "cell_type": "code",
   "execution_count": null,
   "id": "86948b8d",
   "metadata": {},
   "outputs": [],
   "source": [
    "output_dir = \"/content/drive/MyDrive/biomedical_text_generation/data/training/text_gen\"\n",
    "os.makedirs(output_dir, exist_ok=True)\n",
    "\n",
    "output_path = os.path.join(output_dir, \"multi_entity_to_text.jsonl\")\n",
    "\n",
    "with jsonlines.open(output_path, mode=\"w\") as writer:\n",
    "    writer.write_all(multi_entity_to_text)\n",
    "\n",
    "print(f\"Saved {len(multi_entity_to_text)} multi-entity entries to {output_path}\")\n"
   ]
  }
 ],
 "metadata": {
  "language_info": {
   "name": "python"
  }
 },
 "nbformat": 4,
 "nbformat_minor": 5
}
