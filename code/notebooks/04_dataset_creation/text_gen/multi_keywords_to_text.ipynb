{
 "cells": [
  {
   "cell_type": "markdown",
   "id": "3fb9307c",
   "metadata": {},
   "source": [
    "## Multi-Keyword to Abstract Text Generation Dataset\n",
    "\n",
    "This dataset is an extension of the single-keyword generation dataset.  \n",
    "Here, each input consists of **multiple biomedical keywords**, and the model is asked to generate an abstract that would be relevant to all of them.\n",
    "\n",
    "This encourages the model to reason over multiple biomedical concepts simultaneously and generate more coherent and topic-rich outputs.\n",
    "\n",
    "Each example contains:\n",
    "- `pmid`: The PubMed ID\n",
    "- `keywords`: A list of associated keywords\n",
    "- `input`: A natural language prompt including multiple keywords\n",
    "- `target`: The full abstract from the original article\n"
   ]
  },
  {
   "cell_type": "code",
   "execution_count": null,
   "id": "e6493978",
   "metadata": {
    "vscode": {
     "languageId": "plaintext"
    }
   },
   "outputs": [],
   "source": [
    "!pip install jsonlines"
   ]
  },
  {
   "cell_type": "code",
   "execution_count": null,
   "id": "954c4501",
   "metadata": {},
   "outputs": [],
   "source": [
    "# Mount Google Drive\n",
    "from google.colab import drive\n",
    "drive.mount('/content/drive')\n"
   ]
  },
  {
   "cell_type": "code",
   "execution_count": null,
   "id": "7dfb3397",
   "metadata": {},
   "outputs": [],
   "source": [
    "import os\n",
    "import json\n",
    "from tqdm import tqdm\n",
    "\n",
    "# Path to raw folder\n",
    "raw_path = \"/content/drive/MyDrive/biomedical_text_generation/data/raw/\"\n",
    "\n",
    "# List all json files inside raw/\n",
    "raw_files = [f for f in os.listdir(raw_path) if f.endswith(\".json\")]\n",
    "\n",
    "print(f\"Found {len(raw_files)} raw files.\")\n"
   ]
  },
  {
   "cell_type": "code",
   "execution_count": null,
   "id": "ad7464fd",
   "metadata": {},
   "outputs": [],
   "source": [
    "from collections import defaultdict\n",
    "\n",
    "# Map every pmid to keywords that contains it\n",
    "pmid_to_keywords = defaultdict(set)\n",
    "\n",
    "for file in tqdm(raw_files):\n",
    "    keyword = file.replace(\".json\", \"\")  # get the keyword from the filename\n",
    "    with open(os.path.join(raw_path, file), \"r\", encoding=\"utf-8\") as f:\n",
    "        entries = json.load(f)\n",
    "        for entry in entries:\n",
    "            pmid = entry.get(\"pmid\")\n",
    "            if pmid:\n",
    "                pmid_to_keywords[pmid].add(keyword)\n",
    "\n",
    "print(f\"Collected keywords for {len(pmid_to_keywords)} abstracts.\")\n"
   ]
  },
  {
   "cell_type": "code",
   "execution_count": null,
   "id": "25207e89",
   "metadata": {},
   "outputs": [],
   "source": [
    "with open(\"/content/drive/MyDrive/biomedical_text_generation/data/enriched/abstracts_with_entities.json\", \"r\", encoding=\"utf-8\") as f:\n",
    "    all_abstracts = json.load(f)\n",
    "\n",
    "print(f\"Loaded {len(all_abstracts)} enriched abstracts.\")\n"
   ]
  },
  {
   "cell_type": "code",
   "execution_count": null,
   "id": "e80d075f",
   "metadata": {},
   "outputs": [],
   "source": [
    "multi_keyword_data = []\n",
    "\n",
    "for entry in tqdm(all_abstracts):\n",
    "    pmid = entry.get(\"pmid\")\n",
    "    abstract = entry.get(\"abstract\")\n",
    "\n",
    "    if not pmid or not abstract:\n",
    "        continue\n",
    "\n",
    "    keywords = list(pmid_to_keywords.get(pmid, []))\n",
    "    \n",
    "    if len(keywords) < 2:\n",
    "        continue  # Keep only those linked to 2+ keywords\n",
    "\n",
    "    prompt = \" & \".join(keywords)\n",
    "\n",
    "    multi_keyword_data.append({\n",
    "        \"pmid\": pmid,\n",
    "        \"keywords\": keywords,\n",
    "        \"input\": prompt,\n",
    "        \"target\": abstract,\n",
    "        \"abstract\": abstract\n",
    "    })\n",
    "\n",
    "print(f\"Prepared {len(multi_keyword_data)} examples with multiple keywords.\")\n"
   ]
  },
  {
   "cell_type": "code",
   "execution_count": null,
   "id": "ac9a8e4a",
   "metadata": {},
   "outputs": [],
   "source": [
    "import jsonlines\n",
    "import os\n",
    "\n",
    "output_dir = \"/content/drive/MyDrive/biomedical_text_generation/data/training/text_gen\"\n",
    "os.makedirs(output_dir, exist_ok=True)\n",
    "\n",
    "output_path = os.path.join(output_dir, \"multi_keyword_to_text.jsonl\")\n",
    "\n",
    "with jsonlines.open(output_path, mode=\"w\") as writer:\n",
    "    writer.write_all(multi_keyword_data)\n",
    "\n",
    "print(f\"Saved multi-keyword dataset with {len(multi_keyword_data)} entries to:\")\n",
    "print(output_path)\n"
   ]
  }
 ],
 "metadata": {
  "language_info": {
   "name": "python"
  }
 },
 "nbformat": 4,
 "nbformat_minor": 5
}
