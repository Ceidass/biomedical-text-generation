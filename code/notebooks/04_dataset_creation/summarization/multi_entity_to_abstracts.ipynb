{
 "cells": [
  {
   "cell_type": "markdown",
   "id": "36e1398d",
   "metadata": {},
   "source": [
    "# Multi-Entity-to-Abstract Dataset Creation\n",
    "\n",
    "## Purpose\n",
    "\n",
    "This notebook builds on the previous method by grouping **multiple biomedical entities** from a single abstract into a single training input.\n",
    "\n",
    "The goal is to simulate more complex summarization or generation tasks, where the model learns to produce biomedical text conditioned on **a set of related concepts**.\n",
    "\n",
    "### Example:\n",
    "- **Input (Prompt):** `\"Summarize findings involving: immune checkpoint inhibitors, nonsmall cell lung cancer, overall survival\"`\n",
    "- **Target (Output):** Abstract text\n",
    "\n",
    "This setup more closely mimics real-world applications like question answering or scientific report generation, where multiple key topics are involved.\n"
   ]
  },
  {
   "cell_type": "markdown",
   "id": "0437f981",
   "metadata": {},
   "source": [
    "!pip install jsonlines"
   ]
  },
  {
   "cell_type": "code",
   "execution_count": null,
   "id": "729e9275",
   "metadata": {},
   "outputs": [],
   "source": [
    "# Only if you are using Google Colab and want to retreive the data from your Google Drive.\n",
    "from google.colab import drive\n",
    "drive.mount('/content/drive')"
   ]
  },
  {
   "cell_type": "code",
   "execution_count": null,
   "id": "e46436a5",
   "metadata": {},
   "outputs": [],
   "source": [
    "import json\n",
    "\n",
    "with open(\"/content/drive/MyDrive/biomedical_text_generation/data/enriched/abstracts_with_entities.json\", \"r\", encoding=\"utf-8\") as f:\n",
    "    data = json.load(f)\n",
    "\n",
    "print(f\"Total abstracts: {len(data)}\")\n"
   ]
  },
  {
   "cell_type": "code",
   "execution_count": null,
   "id": "aaa9f825",
   "metadata": {},
   "outputs": [],
   "source": [
    "multi_entity_pairs = []\n",
    "\n",
    "for entry in data:\n",
    "    abstract = entry[\"abstract\"]\n",
    "    pmid = entry.get(\"pmid\")\n",
    "    entities = entry.get(\"entities\", [])\n",
    "    \n",
    "    # Filter entities with at least 2 words to keep meaningful ones\n",
    "    filtered = [e for e in entities if len(e.split()) >= 2]\n",
    "    \n",
    "    # Only keep if there are at least 2-3 meaningful entities\n",
    "    if len(filtered) >= 2:\n",
    "        prompt = \"Summarize findings involving: \" + \", \".join(filtered[:5])  # Optional: limit to top 5 entities\n",
    "        multi_entity_pairs.append({\n",
    "            \"input\": prompt,\n",
    "            \"output\": abstract,\n",
    "            \"pmid\": pmid,\n",
    "            \"entities_used\": filtered[:5]\n",
    "        })\n",
    "\n",
    "print(f\"Generated {len(multi_entity_pairs)} training pairs.\")\n"
   ]
  },
  {
   "cell_type": "code",
   "execution_count": null,
   "id": "9aeb377c",
   "metadata": {},
   "outputs": [],
   "source": [
    "import os\n",
    "import jsonlines\n",
    "\n",
    "output_path = \"/content/drive/MyDrive/biomedical_text_generation/data/training/summarization/\"\n",
    "os.makedirs(output_path, exist_ok=True)\n",
    "\n",
    "with jsonlines.open(os.path.join(output_path, \"multi_entity_to_abstract.jsonl\"), mode=\"w\") as writer:\n",
    "    writer.write_all(multi_entity_pairs)\n",
    "\n",
    "print(\"Saved multi-entity dataset.\")\n"
   ]
  }
 ],
 "metadata": {
  "language_info": {
   "name": "python"
  }
 },
 "nbformat": 4,
 "nbformat_minor": 5
}
