{
 "cells": [
  {
   "cell_type": "markdown",
   "id": "1e7d2665",
   "metadata": {},
   "source": [
    "# Dataset Creation for Vanilla Summarization\n",
    "\n",
    "This notebook generates a training dataset for text summarization from biomedical abstracts. \n",
    "We use the enriched dataset (`abstracts_with_entities.json`), where each entry contains the abstract, title, and biomedical entities. \n",
    "\n",
    "### Objective:\n",
    "Create training samples for supervised summarization tasks using models such as T5 or BART. Each sample consists of:\n",
    "- `input_text`: The biomedical abstract\n",
    "- `target_text`: The title of the publication\n",
    "\n",
    "This setup allows the model to learn to generate concise and informative summaries (titles) based on the abstract content.\n",
    "\n",
    "We save the result in `.jsonl` format under:\n"
   ]
  },
  {
   "cell_type": "code",
   "execution_count": null,
   "id": "20570b1f",
   "metadata": {
    "vscode": {
     "languageId": "plaintext"
    }
   },
   "outputs": [],
   "source": [
    "!pip install jsonlines"
   ]
  },
  {
   "cell_type": "code",
   "execution_count": null,
   "id": "642900d6",
   "metadata": {},
   "outputs": [],
   "source": [
    "# Only if you are using Google Colab and want to retreive the data from your Google Drive.\n",
    "from google.colab import drive\n",
    "drive.mount('/content/drive')"
   ]
  },
  {
   "cell_type": "code",
   "execution_count": null,
   "id": "8e948f2d",
   "metadata": {},
   "outputs": [],
   "source": [
    "import json\n",
    "import jsonlines\n",
    "from tqdm import tqdm\n",
    "\n",
    "# Path to the enriched abstracts\n",
    "path = \"/content/drive/MyDrive/biomedical_text_generation/data/enriched/abstracts_with_entities.json\"\n",
    "\n",
    "with open(path, \"r\", encoding=\"utf-8\") as f:\n",
    "    data = json.load(f)\n",
    "\n",
    "print(f\"Total abstracts loaded: {len(data)}\")\n"
   ]
  },
  {
   "cell_type": "code",
   "execution_count": null,
   "id": "fcbc54d5",
   "metadata": {},
   "outputs": [],
   "source": [
    "# Create list of dicts in the format {\"input\": abstract, \"output\": title}\n",
    "vanilla_dataset = []\n",
    "\n",
    "for entry in tqdm(data):\n",
    "    abstract = entry.get(\"abstract\", \"\").strip()\n",
    "    title = entry.get(\"title\", \"\").strip()\n",
    "\n",
    "    # Skip empty or corrupted entries\n",
    "    if abstract and title:\n",
    "        vanilla_dataset.append({\n",
    "            \"input\": abstract,\n",
    "            \"output\": title\n",
    "        })\n",
    "\n",
    "print(f\"Total samples in summarization dataset: {len(vanilla_dataset)}\")\n"
   ]
  },
  {
   "cell_type": "code",
   "execution_count": null,
   "id": "6a036642",
   "metadata": {},
   "outputs": [],
   "source": [
    "# Define output path\n",
    "output_path = \"/content/drive/MyDrive/biomedical_text_generation/data/training/summarization/vanilla_summarization.jsonl\"\n",
    "\n",
    "# Save the dataset\n",
    "with jsonlines.open(output_path, mode=\"w\") as writer:\n",
    "    writer.write_all(vanilla_dataset)\n",
    "\n",
    "print(f\"Saved summarization dataset to: {output_path}\")\n"
   ]
  }
 ],
 "metadata": {
  "language_info": {
   "name": "python"
  }
 },
 "nbformat": 4,
 "nbformat_minor": 5
}
