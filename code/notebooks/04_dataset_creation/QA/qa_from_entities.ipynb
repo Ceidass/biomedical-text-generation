{
 "cells": [
  {
   "cell_type": "markdown",
   "id": "5cb17dc9",
   "metadata": {},
   "source": [
    "## Biomedical QA Dataset (Entity-Based)\n",
    "\n",
    "This notebook creates a weakly supervised biomedical QA dataset using:\n",
    "- Abstracts from PubMed\n",
    "- Extracted biomedical entities (via SciSpaCy)\n",
    "\n",
    "Each QA entry includes:\n",
    "- A question generated from a biomedical entity\n",
    "- A context (the abstract)\n",
    "- An answer (initially the full abstract as a placeholder)\n",
    "\n",
    "The output is saved in JSONL format and can be used for training biomedical question answering models (T5, BART, BioGPT, etc.).\n",
    "\n",
    "> Future enhancements:\n",
    "> - Replace answer with entity-specific span from the context\n",
    "> - Use a retriever (e.g. keyword/entity search) to enhance answer grounding\n"
   ]
  },
  {
   "cell_type": "code",
   "execution_count": null,
   "id": "67f83417",
   "metadata": {
    "vscode": {
     "languageId": "plaintext"
    }
   },
   "outputs": [],
   "source": [
    "!pip install jsonlines"
   ]
  },
  {
   "cell_type": "code",
   "execution_count": null,
   "id": "f432ea0c",
   "metadata": {},
   "outputs": [],
   "source": [
    "# Mount Google Drive\n",
    "from google.colab import drive\n",
    "drive.mount('/content/drive')\n"
   ]
  },
  {
   "cell_type": "code",
   "execution_count": null,
   "id": "e571530a",
   "metadata": {},
   "outputs": [],
   "source": [
    "# Imports\n",
    "import json\n",
    "from tqdm import tqdm\n",
    "import random\n",
    "import jsonlines\n"
   ]
  },
  {
   "cell_type": "code",
   "execution_count": null,
   "id": "57152ec2",
   "metadata": {},
   "outputs": [],
   "source": [
    "# Load enriched abstracts with biomedical entities\n",
    "input_path = \"/content/drive/MyDrive/biomedical_text_generation/data/enriched/abstracts_with_entities.json\"\n",
    "\n",
    "with open(input_path, \"r\", encoding=\"utf-8\") as f:\n",
    "    abstracts = json.load(f)\n",
    "\n",
    "print(f\"Loaded {len(abstracts)} abstracts.\")\n"
   ]
  },
  {
   "cell_type": "code",
   "execution_count": null,
   "id": "3453511d",
   "metadata": {},
   "outputs": [],
   "source": [
    "# Question templates for entity-based QA\n",
    "QUESTION_TEMPLATES = [\n",
    "    \"What is the role of {}?\",\n",
    "    \"How does {} affect cancer?\",\n",
    "    \"What do we know about {}?\",\n",
    "    \"What is {}?\",\n",
    "    \"How is {} used in treatment?\"\n",
    "]\n"
   ]
  },
  {
   "cell_type": "code",
   "execution_count": null,
   "id": "c3463d25",
   "metadata": {},
   "outputs": [],
   "source": [
    "# Generate QA-style entries using biomedical entities\n",
    "qa_data = []\n",
    "\n",
    "for entry in tqdm(abstracts):\n",
    "    pmid = entry.get(\"pmid\")\n",
    "    abstract = entry[\"abstract\"]\n",
    "    entities = entry.get(\"entities\", [])\n",
    "\n",
    "    for entity in entities:\n",
    "        if len(entity.split()) < 2:\n",
    "            continue  # Skip overly generic entities\n",
    "\n",
    "        question = random.choice(QUESTION_TEMPLATES).format(entity)\n",
    "\n",
    "        qa_data.append({\n",
    "            \"pmid\": pmid,\n",
    "            \"context\": abstract,\n",
    "            \"question\": question,\n",
    "            \"answer\": abstract  # Weak supervision: using full abstract as answer\n",
    "        })\n"
   ]
  },
  {
   "cell_type": "code",
   "execution_count": null,
   "id": "1904f014",
   "metadata": {},
   "outputs": [],
   "source": [
    "import os\n",
    "\n",
    "# Ensure the target directory exists\n",
    "output_dir = \"/content/drive/MyDrive/biomedical_text_generation/data/training/QA\"\n",
    "os.makedirs(output_dir, exist_ok=True)\n",
    "\n",
    "# Save dataset to JSONL file\n",
    "output_path = os.path.join(output_dir, \"qa_dataset.jsonl\")\n",
    "\n",
    "with jsonlines.open(output_path, mode=\"w\") as writer:\n",
    "    writer.write_all(qa_data)\n",
    "\n",
    "print(f\"Saved {len(qa_data)} QA pairs to:\")\n",
    "print(output_path)\n"
   ]
  }
 ],
 "metadata": {
  "language_info": {
   "name": "python"
  }
 },
 "nbformat": 4,
 "nbformat_minor": 5
}
