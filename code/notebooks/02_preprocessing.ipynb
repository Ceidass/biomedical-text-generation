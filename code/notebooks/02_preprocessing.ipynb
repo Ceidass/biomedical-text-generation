{
 "cells": [
  {
   "cell_type": "code",
   "execution_count": null,
   "id": "149e86b2",
   "metadata": {},
   "outputs": [],
   "source": [
    "# Only if you are using Google Colab and want to retreive the data from your Google Drive.\n",
    "from google.colab import drive\n",
    "drive.mount('/content/drive')\n",
    "\n",
    "# Basic imports\n",
    "import os # Manipulating directories and files of our Operating System\n",
    "import json # Manipulating json files\n",
    "import pandas as pd # General data manipulation\n",
    "from tqdm import tqdm # For progression bars show\n",
    "import re # Use of regular expressions"
   ]
  },
  {
   "cell_type": "code",
   "execution_count": null,
   "id": "3216cda9",
   "metadata": {},
   "outputs": [],
   "source": [
    "# Directory with raw data\n",
    "raw_data_dir = \"/content/drive/MyDrive/biomedical_text_generation/data/raw\"\n",
    "all_data = []\n",
    "\n",
    "# Loading json files\n",
    "for filename in os.listdir(raw_data_dir):\n",
    "    if filename.endswith(\".json\"):\n",
    "        filepath = os.path.join(raw_data_dir, filename)\n",
    "        with open(filepath, 'r', encoding='utf-8') as f:\n",
    "            try:\n",
    "                entries = json.load(f)\n",
    "                all_data.extend(entries)\n",
    "            except Exception as e:\n",
    "                print(f\"❌ Error in file {filename}: {e}\")\n",
    "\n",
    "print(f\"Number of abstracts loaded: {len(all_data)}\")\n"
   ]
  },
  {
   "cell_type": "code",
   "execution_count": null,
   "id": "ccdb8b58",
   "metadata": {},
   "outputs": [],
   "source": [
    "# Cleaning data and filtering abstracts\n",
    "cleaned_data = []\n",
    "\n",
    "for entry in tqdm(all_data):\n",
    "    title = entry.get(\"title\", \"\").strip()\n",
    "    abstract = entry.get(\"abstract\", \"\").strip()\n",
    "\n",
    "    # Skip if one of two is missing\n",
    "    if not title or not abstract:\n",
    "        continue\n",
    "\n",
    "    # Cleaning of strange characters\n",
    "    abstract = re.sub(r'\\s+', ' ', abstract)\n",
    "    abstract = re.sub(r'[^a-zA-Z0-9Α-Ωα-ω.,;:()\\[\\]\\'\"\\s]', '', abstract)\n",
    "\n",
    "    cleaned_data.append({\n",
    "        \"pmid\": entry.get(\"pmid\", \"\"),\n",
    "        \"title\": title,\n",
    "        \"abstract\": abstract\n",
    "    })\n",
    "\n",
    "print(f\"Number of clear entries: {len(cleaned_data)}\")\n"
   ]
  },
  {
   "cell_type": "code",
   "execution_count": null,
   "id": "bed64757",
   "metadata": {},
   "outputs": [],
   "source": [
    "# Saving in new JSON files\n",
    "\n",
    "# Create cleaned directory if does not exist\n",
    "os.makedirs(\"/content/drive/MyDrive/biomedical_text_generation/data/cleaned\", exist_ok=True)\n",
    "\n",
    "# Saving\n",
    "output_file = \"/content/drive/MyDrive/biomedical_text_generation/data/cleaned/all_abstracts_cleaned.json\"\n",
    "\n",
    "with open(output_file, 'w', encoding='utf-8') as f:\n",
    "    json.dump(cleaned_data, f, ensure_ascii=False, indent=2)\n",
    "\n",
    "print(f\"Saved {len(cleaned_data)} entries in {output_file}\")\n"
   ]
  }
 ],
 "metadata": {
  "language_info": {
   "name": "python"
  }
 },
 "nbformat": 4,
 "nbformat_minor": 5
}
